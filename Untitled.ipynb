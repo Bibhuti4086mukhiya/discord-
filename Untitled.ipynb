{
 "cells": [
  {
   "cell_type": "code",
   "execution_count": 1,
   "id": "c22abf00",
   "metadata": {},
   "outputs": [],
   "source": [
    "import requests\n",
    "from bs4 import BeautifulSoup"
   ]
  },
  {
   "cell_type": "code",
   "execution_count": 2,
   "id": "f0e26fb0",
   "metadata": {},
   "outputs": [],
   "source": [
    "url = \"https://discord.com/channels/1047208198286884926/1137344013448532000\""
   ]
  },
  {
   "cell_type": "code",
   "execution_count": 3,
   "id": "34399764",
   "metadata": {},
   "outputs": [],
   "source": [
    "response=requests.get(url)"
   ]
  },
  {
   "cell_type": "code",
   "execution_count": 4,
   "id": "5e335fe5",
   "metadata": {},
   "outputs": [],
   "source": [
    "soup = BeautifulSoup(response.content,'html.parser')"
   ]
  },
  {
   "cell_type": "code",
   "execution_count": 5,
   "id": "1af89be8",
   "metadata": {
    "scrolled": true
   },
   "outputs": [
    {
     "data": {
      "text/plain": [
       "<!DOCTYPE html>\n",
       "\n",
       "<html>\n",
       "<head> <meta charset=\"utf-8\"/>\n",
       "<meta content=\"width=device-width, initial-scale=1.0, maximum-scale=3.0\" name=\"viewport\"/>\n",
       "<!-- section:seometa -->\n",
       "<meta content=\"website\" property=\"og:type\"/>\n",
       "<meta content=\"Discord\" property=\"og:site_name\"/>\n",
       "<meta content=\"Discord - A New Way to Chat with Friends &amp; Communities\" property=\"og:title\"/>\n",
       "<meta content=\"Discord is the easiest way to communicate over voice, video, and text.  Chat, hang out, and stay close with your friends and communities.\" property=\"og:description\"/><meta content=\"undefined//discord.com/assets/652f40427e1f5186ad54836074898279.png\" property=\"og:image\"/> <meta content=\"summary_large_image\" name=\"twitter:card\"/>\n",
       "<meta content=\"@discord\" name=\"twitter:site\"/>\n",
       "<meta content=\"@discord\" name=\"twitter:creator\"/>\n",
       "<!-- endsection --><script nonce=\"MjYsMTQ3LDI1MCwyMjQsMSw3MywxMTEsMTg3\">window.GLOBAL_ENV = {\n",
       "        API_ENDPOINT: '//discord.com/api',\n",
       "        API_VERSION: 9,\n",
       "        GATEWAY_ENDPOINT: 'wss://gateway.discord.gg',\n",
       "        WEBAPP_ENDPOINT: '//discord.com',\n",
       "        CDN_HOST: 'cdn.discordapp.com',\n",
       "        ASSET_ENDPOINT: '//discord.com',\n",
       "        MEDIA_PROXY_ENDPOINT: '//media.discordapp.net',\n",
       "        WIDGET_ENDPOINT: '//discord.com/widget',\n",
       "        INVITE_HOST: 'discord.gg',\n",
       "        GUILD_TEMPLATE_HOST: 'discord.new',\n",
       "        GIFT_CODE_HOST: 'discord.gift',\n",
       "        RELEASE_CHANNEL: 'stable',\n",
       "        MARKETING_ENDPOINT: '//discord.com',\n",
       "        BRAINTREE_KEY: 'production_ktzp8hfp_49pp2rp4phym7387',\n",
       "        STRIPE_KEY: 'pk_live_CUQtlpQUF0vufWpnpUmQvcdi',\n",
       "        NETWORKING_ENDPOINT: '//router.discordapp.net',\n",
       "        RTC_LATENCY_ENDPOINT: '//latency.discord.media/rtc',\n",
       "        ACTIVITY_APPLICATION_HOST: 'discordsays.com',\n",
       "        PROJECT_ENV: 'production',\n",
       "        REMOTE_AUTH_ENDPOINT: '//remote-auth-gateway.discord.gg',\n",
       "        SENTRY_TAGS: {\"buildId\":\"958c14cce43dc94338a86831f32e7783916c73e7\",\"buildType\":\"normal\"},\n",
       "        MIGRATION_SOURCE_ORIGIN: 'https://discordapp.com',\n",
       "        MIGRATION_DESTINATION_ORIGIN: 'https://discord.com',\n",
       "        HTML_TIMESTAMP: Date.now(),\n",
       "        ALGOLIA_KEY: 'aca0d7082e4e63af5ba5917d5e96bed0',\n",
       "        PUBLIC_PATH: '/assets/'\n",
       "      };</script><script nonce=\"MjYsMTQ3LDI1MCwyMjQsMSw3MywxMTEsMTg3\">!function(){if(null!=window.WebSocket){if(function(n){try{var e=localStorage.getItem(n);return null==e?null:JSON.parse(e)}catch(n){return null}}(\"token\")&&!window.__OVERLAY__){var n=null!=window.DiscordNative||null!=window.require?\"etf\":\"json\",e=window.GLOBAL_ENV.GATEWAY_ENDPOINT+\"/?encoding=\"+n+\"&v=\"+window.GLOBAL_ENV.API_VERSION+\"&compress=zlib-stream\";console.log(\"[FAST CONNECT] connecting to: \"+e);var o=new WebSocket(e);o.binaryType=\"arraybuffer\";var t=Date.now(),i={open:!1,identify:!1,gateway:e,messages:[]};o.onopen=function(){console.log(\"[FAST CONNECT] connected in \"+(Date.now()-t)+\"ms\"),i.open=!0},o.onclose=o.onerror=function(){window._ws=null},o.onmessage=function(n){i.messages.push(n)},window._ws={ws:o,state:i}}}}();</script><link as=\"script\" href=\"/assets/f38330eaf06427991782.js\" rel=\"prefetch\"/><link as=\"script\" href=\"/assets/181a5da92b31a17423da.js\" rel=\"prefetch\"/><link as=\"script\" href=\"/assets/2bca5148146ab09a0f77.js\" rel=\"prefetch\"/><link as=\"script\" href=\"/assets/a48ac06ae30799d7d07a.js\" rel=\"prefetch\"/><link as=\"script\" href=\"/assets/a384b4d7c10cd4956777.js\" rel=\"prefetch\"/><link as=\"script\" href=\"/assets/89c6b10bc7dcb8c1313d.js\" rel=\"prefetch\"/><link as=\"script\" href=\"/assets/470f5d4ff059ac7f0d75.js\" rel=\"prefetch\"/><link as=\"script\" href=\"/assets/c58a450ace15698979d5.js\" rel=\"prefetch\"/><link as=\"script\" href=\"/assets/5a3470ad0570f3a22644.js\" rel=\"prefetch\"/><link as=\"script\" href=\"/assets/bd2cb8fc3969408e95c5.js\" rel=\"prefetch\"/><link as=\"script\" href=\"/assets/1bca15ddfb0e36317dfb.js\" rel=\"prefetch\"/><link as=\"script\" href=\"/assets/f02b51d8f533f78c03d6.js\" rel=\"prefetch\"/><link as=\"script\" href=\"/assets/0189f5e7384c8363507e.js\" rel=\"prefetch\"/><link as=\"script\" href=\"/assets/cc598e93e03cdeae8d0a.js\" rel=\"prefetch\"/><link as=\"script\" href=\"/assets/6d832a51111bc2aa8500.js\" rel=\"prefetch\"/><link as=\"script\" href=\"/assets/cba617244e8ebaffd15a.js\" rel=\"prefetch\"/><link as=\"script\" href=\"/assets/0a2ca548858b291958eb.js\" rel=\"prefetch\"/><link as=\"script\" href=\"/assets/c888c42bb259b7c0897d.js\" rel=\"prefetch\"/><link as=\"script\" href=\"/assets/6694fd3b2094dfeb1c4d.js\" rel=\"prefetch\"/><link as=\"script\" href=\"/assets/82d89eae994d232f7929.js\" rel=\"prefetch\"/><link as=\"script\" href=\"/assets/0c2afeda5884e2026b19.js\" rel=\"prefetch\"/><link as=\"script\" href=\"/assets/c4b1ba0c55127c710656.js\" rel=\"prefetch\"/><link as=\"script\" href=\"/assets/94480e91e99bce841ce8.js\" rel=\"prefetch\"/><link as=\"script\" href=\"/assets/0140e9410f991372adeb.js\" rel=\"prefetch\"/><link as=\"script\" href=\"/assets/07a1a3d51ca7aa26800c.js\" rel=\"prefetch\"/><link as=\"script\" href=\"/assets/27203ce0b305e3e22cb6.js\" rel=\"prefetch\"/><link as=\"script\" href=\"/assets/98a14c8142020ca94e97.js\" rel=\"prefetch\"/><link as=\"script\" href=\"/assets/e4f579215882030833aa.js\" rel=\"prefetch\"/><link as=\"script\" href=\"/assets/e7fbf152d03c39596b4d.js\" rel=\"prefetch\"/><link as=\"script\" href=\"/assets/3d825e8054e8987d22ac.js\" rel=\"prefetch\"/><link as=\"script\" href=\"/assets/a294d3fcdb78d6f4c19a.js\" rel=\"prefetch\"/><link as=\"script\" href=\"/assets/b0c6bcf99f2b9988b854.js\" rel=\"prefetch\"/><link as=\"script\" href=\"/assets/b94a02bfe1c2bfd73603.js\" rel=\"prefetch\"/><link as=\"script\" href=\"/assets/b9dfc8a487f5fc889d42.js\" rel=\"prefetch\"/><link as=\"script\" href=\"/assets/fed9ed833ff22746360d.js\" rel=\"prefetch\"/><link as=\"script\" href=\"/assets/64301571ec034d85f80d.js\" rel=\"prefetch\"/><link as=\"script\" href=\"/assets/187a91f8cd9da685dd54.js\" rel=\"prefetch\"/><link as=\"script\" href=\"/assets/2e4bbf118e755fe96bfe.js\" rel=\"prefetch\"/><link as=\"script\" href=\"/assets/3e2b93c3746cd04da21a.js\" rel=\"prefetch\"/><link as=\"script\" href=\"/assets/6ab223acadab6d74a2e9.js\" rel=\"prefetch\"/><link as=\"script\" href=\"/assets/99e15ced5a915817cf66.js\" rel=\"prefetch\"/><link as=\"script\" href=\"/assets/bd55c9111e59c7ac1b54.js\" rel=\"prefetch\"/><link as=\"script\" href=\"/assets/8c0ae811b6df4d3b7893.js\" rel=\"prefetch\"/><link as=\"script\" href=\"/assets/5b1bd247ef27360b483c.js\" rel=\"prefetch\"/><link as=\"script\" href=\"/assets/6e7ed73f8fe7880c9b1c.js\" rel=\"prefetch\"/><link as=\"script\" href=\"/assets/78b0d11106cf4376f136.js\" rel=\"prefetch\"/><link as=\"script\" href=\"/assets/43fd3da5a281820994dc.js\" rel=\"prefetch\"/><link as=\"script\" href=\"/assets/7a99b0779249f57a255e.js\" rel=\"prefetch\"/><link as=\"script\" href=\"/assets/a6cc3463bf1623adf51b.js\" rel=\"prefetch\"/><link as=\"script\" href=\"/assets/64effc705193c9a96912.js\" rel=\"prefetch\"/><link as=\"script\" href=\"/assets/b918715fa2db24e76396.js\" rel=\"prefetch\"/><link as=\"script\" href=\"/assets/027a641e53653ae4b7ab.js\" rel=\"prefetch\"/><link as=\"script\" href=\"/assets/5382f961bf487b47f8a9.js\" rel=\"prefetch\"/><link as=\"script\" href=\"/assets/64725dd70d18b11a2e5b.js\" rel=\"prefetch\"/><link href=\"/assets/40532.9d63c50d1250c395ef6c.css\" integrity=\"sha256-v0WDWmMgweNDWdpaDVUSUt81arB04fsHuZnh94bZvlU= sha512-y4ISUhrc8/8nhrqxZOSDfQVAby3vh2VCQN+0k9O9oo0zqcIAUYS+sVj/UAaUlvlsSBvKuXCfDMVPomgAXzvBng==\" rel=\"stylesheet\"/><link href=\"/assets/ec2c34cadd4b5f4594415127380a85e6.ico\" rel=\"icon\"> <!-- section:title -->\n",
       "<title>Discord</title>\n",
       "<!-- endsection -->\n",
       "</link></head>\n",
       "<body>\n",
       "<div id=\"app-mount\"></div><script nonce=\"MjYsMTQ3LDI1MCwyMjQsMSw3MywxMTEsMTg3\">window.__OVERLAY__ = /overlay/.test(location.pathname)</script><script nonce=\"MjYsMTQ3LDI1MCwyMjQsMSw3MywxMTEsMTg3\">window.__BILLING_STANDALONE__ = /^\\/billing/.test(location.pathname)</script><script integrity=\"sha256-v//WRS36Wf44fqTGMXgOk8waFIaP3oFQDKO6zKiqrEY= sha512-z0kSCM7UAeRuuh0zLrHTvitWYXsDYSrPXCCwJGQDkvYdDf9ytzAmV2eBtpqFdE0b78kOK5+03kwqTswT5vICbw==\" src=\"/assets/5dd760b84fd2b5ce4495.js\"></script><script integrity=\"sha256-xIOOa6FBIlwVAPr+kM3YiixMHI7PYj9wRPKiYSMUhyw= sha512-4+FKaGCaQ0CFujmKESg7g92oy6aQtUDCaREER1QXWKimQqWElUO5yqZUqtlPPwK51XGcBWdZH0kuiCByICibaQ==\" src=\"/assets/f38330eaf06427991782.js\"></script><script integrity=\"sha256-IEcgwoz9esb/ebNHR0/IK+CMXV8dCDa2P+wSt/oh1sI= sha512-XCphZ9K0tQvrYrNDeHR/YCUEHMBPj5Dtrm0nyoi8/HIfHnA8Pko2fDg2Oz4gvSGozjjxvPKBACeb1GiyIRTP8w==\" src=\"/assets/d291bd9ea787e27b1c66.js\"></script><script integrity=\"sha256-kq+3C5qaFV1aKhep45bZuW5gKeSy8N1s+vONJKPpL/s= sha512-Bni6T4dmPPaEY+xHWXVmP+An1JgU5ZfFL3reLjpl813hPKZ6Hfoo6NupFNuK/Gi6qaUHo72ssAzrFv9l/v13Tg==\" src=\"/assets/df22f2b7f3ea2bf6acf1.js\"></script> <script nonce=\"MjYsMTQ3LDI1MCwyMjQsMSw3MywxMTEsMTg3\">(function(){var js = \"window['__CF$cv$params']={r:'7f6053497f479885',t:'MTY5MTkyMzA3My41MzUwMDA='};_cpo=document.createElement('script');_cpo.nonce='MjYsMTQ3LDI1MCwyMjQsMSw3MywxMTEsMTg3',_cpo.src='/cdn-cgi/challenge-platform/scripts/invisible.js',document.getElementsByTagName('head')[0].appendChild(_cpo);\";var _0xh = document.createElement('iframe');_0xh.height = 1;_0xh.width = 1;_0xh.style.position = 'absolute';_0xh.style.top = 0;_0xh.style.left = 0;_0xh.style.border = 'none';_0xh.style.visibility = 'hidden';document.body.appendChild(_0xh);function handler() {var _0xi = _0xh.contentDocument || _0xh.contentWindow.document;if (_0xi) {var _0xj = _0xi.createElement('script');_0xj.nonce = 'MjYsMTQ3LDI1MCwyMjQsMSw3MywxMTEsMTg3';_0xj.innerHTML = js;_0xi.getElementsByTagName('head')[0].appendChild(_0xj);}}if (document.readyState !== 'loading') {handler();} else if (window.addEventListener) {document.addEventListener('DOMContentLoaded', handler);} else {var prev = document.onreadystatechange || function () {};document.onreadystatechange = function (e) {prev(e);if (document.readyState !== 'loading') {document.onreadystatechange = prev;handler();}};}})();</script></body>\n",
       "</html>"
      ]
     },
     "execution_count": 5,
     "metadata": {},
     "output_type": "execute_result"
    }
   ],
   "source": [
    "soup"
   ]
  },
  {
   "cell_type": "code",
   "execution_count": null,
   "id": "0d2cd801",
   "metadata": {},
   "outputs": [],
   "source": []
  },
  {
   "cell_type": "code",
   "execution_count": null,
   "id": "d793e304",
   "metadata": {},
   "outputs": [],
   "source": []
  },
  {
   "cell_type": "code",
   "execution_count": null,
   "id": "d23fdbd0",
   "metadata": {},
   "outputs": [],
   "source": []
  }
 ],
 "metadata": {
  "kernelspec": {
   "display_name": "Python 3 (ipykernel)",
   "language": "python",
   "name": "python3"
  },
  "language_info": {
   "codemirror_mode": {
    "name": "ipython",
    "version": 3
   },
   "file_extension": ".py",
   "mimetype": "text/x-python",
   "name": "python",
   "nbconvert_exporter": "python",
   "pygments_lexer": "ipython3",
   "version": "3.9.12"
  }
 },
 "nbformat": 4,
 "nbformat_minor": 5
}
