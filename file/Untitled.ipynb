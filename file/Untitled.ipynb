{
 "cells": [
  {
   "cell_type": "code",
   "execution_count": 1,
   "id": "c22abf00",
   "metadata": {},
   "outputs": [],
   "source": [
    "import requests\n",
    "import json"
   ]
  },
  {
   "cell_type": "code",
   "execution_count": 2,
   "id": "62910fca",
   "metadata": {},
   "outputs": [],
   "source": [
    "def discord_message(channel_id):\n",
    "    headers={\n",
    "        'authorization':'MTA0MTI3MTA1MDIwMzMwODA1NQ.GqjmFD.zuEV8eJodVQFRnCPLj69O6x1STdjHjjC_M9gnQ'\n",
    "    }\n",
    "    response=requests.get(f\"https://discord.com/api/v9/channels/{channel_id}/messages\", headers=headers)\n",
    "    jsson=json.loads(response.text)\n",
    "    for value in jsson:\n",
    "        print(value,\"\\n\")"
   ]
  },
  {
   "cell_type": "code",
   "execution_count": 3,
   "id": "12e18ef7",
   "metadata": {},
   "outputs": [
    {
     "name": "stdout",
     "output_type": "stream",
     "text": [
      "{'id': '1140994386767904909', 'type': 0, 'content': 'Summery week 9', 'channel_id': '1116648086408802304', 'author': {'id': '1041271050203308055', 'username': 'bibhutimukhiya', 'avatar': None, 'discriminator': '0', 'public_flags': 0, 'flags': 0, 'banner': None, 'accent_color': None, 'global_name': 'bibhuti mukhiya', 'avatar_decoration_data': None, 'banner_color': None}, 'attachments': [], 'embeds': [], 'mentions': [], 'mention_roles': [], 'pinned': False, 'mention_everyone': False, 'tts': False, 'timestamp': '2023-08-15T13:04:20.456000+00:00', 'edited_timestamp': None, 'flags': 0, 'components': []} \n",
      "\n",
      "{'id': '1137790494420762725', 'type': 0, 'content': 'summery week 8', 'channel_id': '1116648086408802304', 'author': {'id': '1041271050203308055', 'username': 'bibhutimukhiya', 'avatar': None, 'discriminator': '0', 'public_flags': 0, 'flags': 0, 'banner': None, 'accent_color': None, 'global_name': 'bibhuti mukhiya', 'avatar_decoration_data': None, 'banner_color': None}, 'attachments': [], 'embeds': [], 'mentions': [], 'mention_roles': [], 'pinned': False, 'mention_everyone': False, 'tts': False, 'timestamp': '2023-08-06T16:53:12.995000+00:00', 'edited_timestamp': None, 'flags': 0, 'components': []} \n",
      "\n",
      "{'id': '1135263032692445185', 'type': 0, 'content': 'summery week 7', 'channel_id': '1116648086408802304', 'author': {'id': '1041271050203308055', 'username': 'bibhutimukhiya', 'avatar': None, 'discriminator': '0', 'public_flags': 0, 'flags': 0, 'banner': None, 'accent_color': None, 'global_name': 'bibhuti mukhiya', 'avatar_decoration_data': None, 'banner_color': None}, 'attachments': [], 'embeds': [], 'mentions': [], 'mention_roles': [], 'pinned': False, 'mention_everyone': False, 'tts': False, 'timestamp': '2023-07-30T17:29:59.161000+00:00', 'edited_timestamp': None, 'flags': 0, 'components': []} \n",
      "\n",
      "{'id': '1132679663030911026', 'type': 0, 'content': 'summery week 6', 'channel_id': '1116648086408802304', 'author': {'id': '1041271050203308055', 'username': 'bibhutimukhiya', 'avatar': None, 'discriminator': '0', 'public_flags': 0, 'flags': 0, 'banner': None, 'accent_color': None, 'global_name': 'bibhuti mukhiya', 'avatar_decoration_data': None, 'banner_color': None}, 'attachments': [], 'embeds': [], 'mentions': [], 'mention_roles': [], 'pinned': False, 'mention_everyone': False, 'tts': False, 'timestamp': '2023-07-23T14:24:35.837000+00:00', 'edited_timestamp': None, 'flags': 0, 'components': []} \n",
      "\n",
      "{'id': '1130099093818069002', 'type': 0, 'content': 'summery week 5', 'channel_id': '1116648086408802304', 'author': {'id': '1041271050203308055', 'username': 'bibhutimukhiya', 'avatar': None, 'discriminator': '0', 'public_flags': 0, 'flags': 0, 'banner': None, 'accent_color': None, 'global_name': 'bibhuti mukhiya', 'avatar_decoration_data': None, 'banner_color': None}, 'attachments': [], 'embeds': [], 'mentions': [], 'mention_roles': [], 'pinned': False, 'mention_everyone': False, 'tts': False, 'timestamp': '2023-07-16T11:30:20.192000+00:00', 'edited_timestamp': '2023-07-23T05:40:04.426000+00:00', 'flags': 0, 'components': []} \n",
      "\n",
      "{'id': '1126917448961118208', 'type': 0, 'content': 'Summery week 4\\n1. always make plans that plan have approach 1, approach 2 so on...\\n2.Approach helps to think how will achieve the goal.\\n3.explore the AST library that used for code analysis, transformation, and generation', 'channel_id': '1116648086408802304', 'author': {'id': '1041271050203308055', 'username': 'bibhutimukhiya', 'avatar': None, 'discriminator': '0', 'public_flags': 0, 'flags': 0, 'banner': None, 'accent_color': None, 'global_name': 'bibhuti mukhiya', 'avatar_decoration_data': None, 'banner_color': None}, 'attachments': [], 'embeds': [], 'mentions': [], 'mention_roles': [], 'pinned': False, 'mention_everyone': False, 'tts': False, 'timestamp': '2023-07-07T16:47:36.946000+00:00', 'edited_timestamp': '2023-07-09T17:01:29.594000+00:00', 'flags': 0, 'components': []} \n",
      "\n",
      "{'id': '1125308446049316884', 'type': 0, 'content': 'summery week 3\\n1.If you finish a problem, repeat the task after a week.\\n2.re do that task then find what are different between both solution.\\n3.try to findout \"why you take that much time at first while solving the problem\"\\n4. Make the confusion clear and remember it for a long time.\\n5. analyze the solution and, within time, write output without any late.\\n6. always focus on what to bring to solution', 'channel_id': '1116648086408802304', 'author': {'id': '1041271050203308055', 'username': 'bibhutimukhiya', 'avatar': None, 'discriminator': '0', 'public_flags': 0, 'flags': 0, 'banner': None, 'accent_color': None, 'global_name': 'bibhuti mukhiya', 'avatar_decoration_data': None, 'banner_color': None}, 'attachments': [], 'embeds': [], 'mentions': [], 'mention_roles': [], 'pinned': False, 'mention_everyone': False, 'tts': False, 'timestamp': '2023-07-03T06:14:00.758000+00:00', 'edited_timestamp': '2023-07-10T06:10:47.268000+00:00', 'flags': 0, 'components': []} \n",
      "\n",
      "{'id': '1122393292554911806', 'type': 0, 'content': 'summery week 2,\\n1.use debug tool for make code that give idea for make variable to store value and use that as need.\\n2.level 2 last question, need for attention that code is not useful or new code.\\n3.level 3, show all result of bid and there is no need to show same bid more than 1 time.\\n4.level 3,4 use list for store result.\\n5.first solve in paper, then easy to code.\\n6.level 4,there is fix price buy seller, if buyer is equal to fixed price or more than that bid buyer is winner.\\n7.level 4, fix price is zero then max bid is winner', 'channel_id': '1116648086408802304', 'author': {'id': '1041271050203308055', 'username': 'bibhutimukhiya', 'avatar': None, 'discriminator': '0', 'public_flags': 0, 'flags': 0, 'banner': None, 'accent_color': None, 'global_name': 'bibhuti mukhiya', 'avatar_decoration_data': None, 'banner_color': None}, 'attachments': [], 'embeds': [], 'mentions': [], 'mention_roles': [], 'pinned': False, 'mention_everyone': False, 'tts': False, 'timestamp': '2023-06-25T05:10:14.004000+00:00', 'edited_timestamp': '2023-06-30T07:24:43.994000+00:00', 'flags': 0, 'components': []} \n",
      "\n",
      "{'id': '1120197971133349959', 'type': 0, 'content': 'cat coder,\\nlevel 1\\neasy to understand doing in paper,\\nuse replace() function for replace for buyer and highest bid\\ndifficult to understand while two same buyer.\\nto solve, there is use comparision\\nlast question with 1 buyer, can not adjust in same code.\\nbid start with 1 bid\\nprice start with product cost any price.\\n\\nlevel 2\\nthere is problem while highest buyer is in middle.\\nto solve there, use extra code\\nthere is only one buyer, many times, then buyer pay product price.', 'channel_id': '1116648086408802304', 'author': {'id': '1041271050203308055', 'username': 'bibhutimukhiya', 'avatar': None, 'discriminator': '0', 'public_flags': 0, 'flags': 0, 'banner': None, 'accent_color': None, 'global_name': 'bibhuti mukhiya', 'avatar_decoration_data': None, 'banner_color': None}, 'attachments': [], 'embeds': [], 'mentions': [], 'mention_roles': [], 'pinned': False, 'mention_everyone': False, 'tts': False, 'timestamp': '2023-06-19T03:46:48.590000+00:00', 'edited_timestamp': '2023-06-19T05:47:21.639000+00:00', 'flags': 0, 'components': []} \n",
      "\n",
      "{'id': '1116648955246284800', 'type': 0, 'content': 'Every friday, you log everything what you did on the week. I will show you an example', 'channel_id': '1116648086408802304', 'author': {'id': '690462892432293898', 'username': 'rajababuchauhan', 'avatar': '835888a6c3d328763b482ff02c21d372', 'discriminator': '0', 'public_flags': 0, 'flags': 0, 'banner': None, 'accent_color': None, 'global_name': 'Raja', 'avatar_decoration_data': None, 'banner_color': None}, 'attachments': [], 'embeds': [], 'mentions': [], 'mention_roles': [], 'pinned': False, 'mention_everyone': False, 'tts': False, 'timestamp': '2023-06-09T08:44:17.265000+00:00', 'edited_timestamp': None, 'flags': 0, 'components': []} \n",
      "\n"
     ]
    }
   ],
   "source": [
    "discord_message('1116648086408802304')"
   ]
  },
  {
   "cell_type": "code",
   "execution_count": 82,
   "id": "664216ca",
   "metadata": {
    "scrolled": true
   },
   "outputs": [
    {
     "name": "stdout",
     "output_type": "stream",
     "text": [
      "[ \n",
      "\n"
     ]
    }
   ],
   "source": []
  }
 ],
 "metadata": {
  "kernelspec": {
   "display_name": "Python 3 (ipykernel)",
   "language": "python",
   "name": "python3"
  },
  "language_info": {
   "codemirror_mode": {
    "name": "ipython",
    "version": 3
   },
   "file_extension": ".py",
   "mimetype": "text/x-python",
   "name": "python",
   "nbconvert_exporter": "python",
   "pygments_lexer": "ipython3",
   "version": "3.9.12"
  }
 },
 "nbformat": 4,
 "nbformat_minor": 5
}
